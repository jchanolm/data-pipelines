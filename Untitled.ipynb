{
 "cells": [
  {
   "cell_type": "code",
   "execution_count": 10,
   "id": "5912bb74-4858-43e9-925e-12ee59d75de4",
   "metadata": {},
   "outputs": [],
   "source": [
    "import json\n",
    "\n",
    "with open('merp.json', 'r') as f:\n",
    "    rss = json.load(f)"
   ]
  },
  {
   "cell_type": "code",
   "execution_count": 11,
   "id": "d4bc6d38-7ec0-40ed-afc5-4d42b20b89d9",
   "metadata": {
    "collapsed": true,
    "jupyter": {
     "outputs_hidden": true
    }
   },
   "outputs": [
    {
     "data": {
      "text/plain": [
       "{'title': 'Pretty amazing turnout for Deploy on Degen Week, thanks to all those building on Degen chain and applying! You guys are making the Degen chain more incredible than we could have ever even imagined.',\n",
       " 'title_detail': {'type': 'text/plain',\n",
       "  'language': None,\n",
       "  'base': 'https://rss.app/feeds/TwQ7TQ4qXzylJyK1.xml',\n",
       "  'value': 'Pretty amazing turnout for Deploy on Degen Week, thanks to all those building on Degen chain and applying! You guys are making the Degen chain more incredible than we could have ever even imagined.'},\n",
       " 'summary': '<blockquote class=\"twitter-tweet\"><p dir=\"ltr\" lang=\"en\">Pretty amazing turnout for Deploy on Degen Week, thanks to all those building on Degen chain and applying! You guys are making the Degen chain more incredible than we could have ever even imagined. <a href=\"https://t.co/bVKUjjcbZN\">https://t.co/bVKUjjcbZN</a></p>— Degen 🎩 (@degentokenbase) <a href=\"https://twitter.com/degentokenbase/status/1777832333778792546?ref_src=twsrc%5Etfw\">April 9, 2024</a></blockquote>',\n",
       " 'summary_detail': {'type': 'text/html',\n",
       "  'language': None,\n",
       "  'base': 'https://rss.app/feeds/TwQ7TQ4qXzylJyK1.xml',\n",
       "  'value': '<blockquote class=\"twitter-tweet\"><p dir=\"ltr\" lang=\"en\">Pretty amazing turnout for Deploy on Degen Week, thanks to all those building on Degen chain and applying! You guys are making the Degen chain more incredible than we could have ever even imagined. <a href=\"https://t.co/bVKUjjcbZN\">https://t.co/bVKUjjcbZN</a></p>— Degen 🎩 (@degentokenbase) <a href=\"https://twitter.com/degentokenbase/status/1777832333778792546?ref_src=twsrc%5Etfw\">April 9, 2024</a></blockquote>'},\n",
       " 'links': [{'rel': 'alternate',\n",
       "   'type': 'text/html',\n",
       "   'href': 'https://twitter.com/degentokenbase/status/1777832333778792546'}],\n",
       " 'link': 'https://twitter.com/degentokenbase/status/1777832333778792546',\n",
       " 'id': '8a6ec52d986763c5a1ff9230850ffec7',\n",
       " 'guidislink': False,\n",
       " 'authors': [{'name': '@degentokenbase'}],\n",
       " 'author': '@degentokenbase',\n",
       " 'author_detail': {'name': '@degentokenbase'},\n",
       " 'published': 'Tue, 09 Apr 2024 22:53:53 GMT',\n",
       " 'published_parsed': [2024, 4, 9, 22, 53, 53, 1, 100, 0]}"
      ]
     },
     "execution_count": 11,
     "metadata": {},
     "output_type": "execute_result"
    }
   ],
   "source": [
    "rss = rss['data']\n",
    "rss[0]"
   ]
  },
  {
   "cell_type": "code",
   "execution_count": null,
   "id": "434de243-3d2f-4d8d-a128-a90719e5dfe5",
   "metadata": {},
   "outputs": [],
   "source": [
    "title -> text\n",
    "id -> tweetId\n",
    "author -> author minus ampersand\n",
    "published -> publishedDtStr\n",
    "published -> publishedDt\n"
   ]
  },
  {
   "cell_type": "code",
   "execution_count": 13,
   "id": "b10aa7a0-5f75-4b27-9e96-7c8c70df543e",
   "metadata": {},
   "outputs": [
    {
     "name": "stdout",
     "output_type": "stream",
     "text": [
      "{'text': 'Pretty amazing turnout for Deploy on Degen Week, thanks to all those building on Degen chain and applying! You guys are making the Degen chain more incredible than we could have ever even imagined.', 'tweetId': '8a6ec52d986763c5a1ff9230850ffec7', 'author': '@degentokenbase', 'url': 'https://twitter.com/degentokenbase/status/1777832333778792546', 'publishedDt': [2024, 4, 9, 22, 53, 53, 1, 100, 0], 'publishedDtStr': 'Tue, 09 Apr 2024 22:53:53 GMT'}\n",
      "{'text': \"Coming this week, you'll be able to mint with $DEGEN on @Highlight_xyz! 😱\", 'tweetId': 'd2dfe0f7d36d58f8c12ee9e30a67b102', 'author': '@degentokenbase', 'url': 'https://twitter.com/degentokenbase/status/1777827405735834040', 'publishedDt': [2024, 4, 9, 22, 34, 18, 1, 100, 0], 'publishedDtStr': 'Tue, 09 Apr 2024 22:34:18 GMT'}\n",
      "{'text': \"We're excited to announce that we've awarded a 1M $DEGEN grant to @Jamfrens! They will be distributing it among their users. It's a privilege to continue our support for creators in this impactful way!\", 'tweetId': '11cfe6ff797a8171a20f42f8606e9477', 'author': '@degentokenbase', 'url': 'https://twitter.com/degentokenbase/status/1777727271748387123', 'publishedDt': [2024, 4, 9, 15, 56, 24, 1, 100, 0], 'publishedDtStr': 'Tue, 09 Apr 2024 15:56:24 GMT'}\n"
     ]
    },
    {
     "ename": "KeyboardInterrupt",
     "evalue": "",
     "output_type": "error",
     "traceback": [
      "\u001b[0;31m---------------------------------------------------------------------------\u001b[0m",
      "\u001b[0;31mKeyboardInterrupt\u001b[0m                         Traceback (most recent call last)",
      "Cell \u001b[0;32mIn[13], line 21\u001b[0m\n\u001b[1;32m     12\u001b[0m d \u001b[38;5;241m=\u001b[39m {\n\u001b[1;32m     13\u001b[0m     \u001b[38;5;124m'\u001b[39m\u001b[38;5;124mtext\u001b[39m\u001b[38;5;124m'\u001b[39m: text,\n\u001b[1;32m     14\u001b[0m     \u001b[38;5;124m'\u001b[39m\u001b[38;5;124mtweetId\u001b[39m\u001b[38;5;124m'\u001b[39m: tweetId,\n\u001b[0;32m   (...)\u001b[0m\n\u001b[1;32m     18\u001b[0m     \u001b[38;5;124m'\u001b[39m\u001b[38;5;124mpublishedDtStr\u001b[39m\u001b[38;5;124m'\u001b[39m: publishedDtStr\n\u001b[1;32m     19\u001b[0m }\n\u001b[1;32m     20\u001b[0m \u001b[38;5;28mprint\u001b[39m(d)\n\u001b[0;32m---> 21\u001b[0m \u001b[43mtime\u001b[49m\u001b[38;5;241;43m.\u001b[39;49m\u001b[43msleep\u001b[49m\u001b[43m(\u001b[49m\u001b[38;5;241;43m3\u001b[39;49m\u001b[43m)\u001b[49m\n",
      "\u001b[0;31mKeyboardInterrupt\u001b[0m: "
     ]
    }
   ],
   "source": [
    "import time\n",
    "\n",
    "for i in rss:\n",
    "    text = i.get('title')\n",
    "    tweetId = i.get('id')\n",
    "    author = i.get('author')\n",
    "    url = i.get('link')\n",
    "    tweetId = i.get('id')\n",
    "    publishedDt = i.get('published_parsed')\n",
    "    publishedDtStr = i.get('published') \n",
    "\n",
    "    d = {\n",
    "        'text': text,\n",
    "        'tweetId': tweetId,\n",
    "        'author': author, \n",
    "        'url': url, \n",
    "        'publishedDt': publishedDt, \n",
    "        'publishedDtStr': publishedDtStr\n",
    "    }\n",
    "    print(d)\n",
    "    time.sleep(3)\n",
    "    \n",
    "    "
   ]
  }
 ],
 "metadata": {
  "kernelspec": {
   "display_name": "Python 3 (ipykernel)",
   "language": "python",
   "name": "python3"
  },
  "language_info": {
   "codemirror_mode": {
    "name": "ipython",
    "version": 3
   },
   "file_extension": ".py",
   "mimetype": "text/x-python",
   "name": "python",
   "nbconvert_exporter": "python",
   "pygments_lexer": "ipython3",
   "version": "3.10.0"
  }
 },
 "nbformat": 4,
 "nbformat_minor": 5
}
